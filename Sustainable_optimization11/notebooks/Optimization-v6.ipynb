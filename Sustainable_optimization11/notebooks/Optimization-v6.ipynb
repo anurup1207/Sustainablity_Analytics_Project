{
 "cells": [
  {
   "cell_type": "code",
   "execution_count": 1,
   "id": "79d941c9",
   "metadata": {},
   "outputs": [],
   "source": [
    "# Imports\n",
    "import numpy as np\n",
    "import pandas as pd\n",
    "import polars as pl\n",
    "import pulp\n",
    "from tqdm.auto import tqdm\n",
    "import os\n",
    "import gc\n",
    "from warnings import filterwarnings\n",
    "\n",
    "filterwarnings(\"ignore\")\n",
    "\n",
    "# Load master data\n",
    "vehicles_df = pd.read_csv(\"../data/Master_data/vehicle_master_data.csv\")\n",
    "distances_df = pd.read_csv(\"../data/Master_data/distance_master_data.csv\")\n",
    "# Read input\n",
    "input_df = pd.read_csv(\"../data/Input_data/Input4.csv\")"
   ]
  },
  {
   "cell_type": "code",
   "execution_count": 2,
   "id": "fe4d3dea",
   "metadata": {},
   "outputs": [],
   "source": [
    "# ***** !!! *****\n",
    "input_df['From'] = input_df['From'].str.strip()\n",
    "input_df['To'] = input_df['To'].str.strip()\n",
    "distances_df['Source'] = distances_df['Source'].str.strip()\n",
    "distances_df['Destination'] = distances_df['Destination'].str.strip()\n",
    "\n",
    "input_df['From'] = input_df['From'].str.replace(\" \", \"_\")\n",
    "input_df['To'] = input_df['To'].str.replace(\" \", \"_\")\n",
    "distances_df['Source'] = distances_df['Source'].str.replace(\" \", \"_\")\n",
    "distances_df['Destination'] = distances_df['Destination'].str.replace(\" \", \"_\")"
   ]
  },
  {
   "cell_type": "code",
   "execution_count": 3,
   "id": "1ca6b092",
   "metadata": {},
   "outputs": [
    {
     "data": {
      "text/plain": [
       "array(['Delhi', 'Bengaluru', 'Hyderabad', 'Ahmadabad', 'Surat', 'Kolkata',\n",
       "       'Chennai', 'Jaipur', 'Pune', 'Kanpur', 'Lucknow', 'Nagpur',\n",
       "       'Indore', 'Thane', 'Pimpri_Chinchwad', 'Bhopal', 'Patna',\n",
       "       'Visakhapatnam', 'Ludhiana', 'Vadodara', 'Agra', 'Nashik',\n",
       "       'Faridabad', 'Meerut', 'Rajkot', 'Vasai_Virar_City', 'Varanasi',\n",
       "       'Srinagar', 'Dhanbad', 'Mumbai'], dtype=object)"
      ]
     },
     "execution_count": 3,
     "metadata": {},
     "output_type": "execute_result"
    }
   ],
   "source": [
    "distances_df['Destination'].unique()"
   ]
  },
  {
   "cell_type": "code",
   "execution_count": 4,
   "id": "7f94a9bc",
   "metadata": {},
   "outputs": [],
   "source": [
    "def clean_data_mode(df):\n",
    "    # Drop mode distance that are not compatible to the specific vehicle\n",
    "    df.drop(\n",
    "        df[(df[\"Air Distance (km)\"].isna()) & (df[\"Transportation modes\"] == \"Air\")].index,\n",
    "        axis=0,\n",
    "        inplace=True,\n",
    "    )\n",
    "    df.drop(\n",
    "        df[(df[\"Rail Distance (km)\"].isna()) & (df[\"Transportation modes\"] == \"Rail\")].index,\n",
    "        axis=0,\n",
    "        inplace=True,\n",
    "    )\n",
    "    df.drop(\n",
    "        df[(df[\"Road Distance (km)\"].isna()) & (df[\"Transportation modes\"] == \"Road\")].index,\n",
    "        axis=0,\n",
    "        inplace=True,\n",
    "    )\n",
    "    df.reset_index(inplace=True, drop=True)\n",
    "    \n",
    "    return df\n",
    "\n",
    "def pre_calculate_data_features(df):\n",
    "    # Pre-calculate time, cost and obj function value\n",
    "    time_list = []\n",
    "    cost_list = []\n",
    "    obj1_list = []\n",
    "\n",
    "    for i in range(len(df)):\n",
    "        if df[\"Transportation modes\"][i] == \"Air\":\n",
    "            time_list.append(df[\"Air Distance (km)\"][i] / df[\"Avg speed (km/hr)\"][i])\n",
    "            cost_list.append(df[\"Air Distance (km)\"][i] * df[\"Cost per km\"][i])\n",
    "            obj1_list.append(df[\"Air Distance (km)\"][i] * df[\"Co2e (g/km)\"][i] / 1000)\n",
    "\n",
    "        elif df[\"Transportation modes\"][i] == \"Road\":\n",
    "            time_list.append(df[\"Road Distance (km)\"][i] / df[\"Avg speed (km/hr)\"][i])\n",
    "            cost_list.append(df[\"Road Distance (km)\"][i] * df[\"Cost per km\"][i])\n",
    "            obj1_list.append(df[\"Road Distance (km)\"][i] * df[\"Co2e (g/km)\"][i] / 1000)\n",
    "\n",
    "        else:\n",
    "            time_list.append(df[\"Rail Distance (km)\"][i] / df[\"Avg speed (km/hr)\"][i])\n",
    "            cost_list.append(df[\"Rail Distance (km)\"][i] * df[\"Cost per km\"][i])\n",
    "            obj1_list.append(df[\"Rail Distance (km)\"][i] * df[\"Co2e (g/km)\"][i] / 1000)\n",
    "\n",
    "\n",
    "    df[\"Time (hrs)\"] = time_list\n",
    "    df[\"Cost\"] = cost_list\n",
    "    df[\"obj1\"] = obj1_list\n",
    "\n",
    "def prepare_model_data(vehicles_df, distances_df):\n",
    "\n",
    "    # Createing decision variable column in the dataframe\n",
    "    df = distances_df.join(vehicles_df, how=\"cross\")\n",
    "    df[\"decisions\"] = df[\"Source\"] + \", \" + df[\"Destination\"] + \", \" + df[\"Transportation modes\"] + \", \" + df[\"Vehicle_type\"]\n",
    "\n",
    "    df = clean_data_mode(df)\n",
    "\n",
    "    pre_calculate_data_features(df)\n",
    "\n",
    "    # Filtering the model data according to provided input data\n",
    "    i1 = df.set_index(list(df[[\"Source\", \"Destination\"]])).index\n",
    "    i2 = input_df.set_index(list(input_df[[\"From\", \"To\"]])).index\n",
    "\n",
    "    df0 = df[i1.isin(i2)]\n",
    "    df0.reset_index(drop=True, inplace=True)\n",
    "\n",
    "    # pandas -> polars (for faster performance)\n",
    "    df1 = pl.from_pandas(df0)\n",
    "    return df, df1"
   ]
  },
  {
   "cell_type": "code",
   "execution_count": 5,
   "id": "5bf9ad8f",
   "metadata": {},
   "outputs": [],
   "source": [
    "def master_data_preparation(vehicles_df, demands_df):\n",
    "    # master availability mapping\n",
    "    master_availability = dict(zip(vehicles_df[\"Vehicle_type\"], vehicles_df[\"Availability\"]))\n",
    "\n",
    "    # master demand mapping\n",
    "    master_demand = {}\n",
    "    for i, j in zip(\n",
    "        np.array(demands_df[[\"Source\", \"Destination\"]].drop_duplicates()),\n",
    "        [\n",
    "            0,\n",
    "        ]\n",
    "        * len(demands_df[[\"Source\", \"Destination\"]].drop_duplicates()),\n",
    "    ):\n",
    "        master_demand[tuple(i)] = j\n",
    "    \n",
    "    return master_availability, master_demand\n",
    "\n",
    "\n",
    "def prepare_demand_data(input_df, master_demand):\n",
    "    # real/input demand mapping\n",
    "    demand = {}\n",
    "    for i, j in zip(np.array(input_df[[\"From\", \"To\"]]), input_df[\"Quantity (MT)\"]):\n",
    "        demand[tuple(i)] = j\n",
    "\n",
    "    for k in master_demand.keys():\n",
    "        if k not in demand.keys():\n",
    "            demand[k] = 0\n",
    "    \n",
    "    return demand"
   ]
  },
  {
   "cell_type": "code",
   "execution_count": 6,
   "id": "01a19c87",
   "metadata": {},
   "outputs": [],
   "source": [
    "def create_optim_model(df1, input_df):\n",
    "    # Result lists choices\n",
    "    vehicle_count_choice_list = []\n",
    "    material_transport_quantity_choice_list = []\n",
    "    co2_emission_choice_list = []\n",
    "    transportation_cost_choice_list = []\n",
    "    transportation_time_choice_list = []\n",
    "\n",
    "    # Result lists trips/return trips\n",
    "    vehicle_count_trip_list = []\n",
    "    material_transport_quantity_trip_list = []\n",
    "    co2_emission_trip_list = []\n",
    "    transportation_cost_trip_list = []\n",
    "    transportation_time_trip_list = []\n",
    "\n",
    "    ##########################################################\n",
    "    # ------------------- Model Definition ------------------#\n",
    "    ##########################################################\n",
    "    # Create a LP minimization problem\n",
    "    model = pulp.LpProblem(\"Co2e Optimization\", pulp.LpMinimize)\n",
    "\n",
    "    ############################################################\n",
    "    # ------------------- Decision Variables ------------------#\n",
    "    ############################################################\n",
    "\n",
    "    # choice decision variable -> Bool\n",
    "    choice_decision = pulp.LpVariable.dicts(\n",
    "        \"Choice_Decision_\",\n",
    "        (tuple(df1[\"decisions\"][i].split(\", \")) + (j,) for i in range(len(df1)) for j in range(master_availability[df1[\"decisions\"][i].split(\", \")[-1]])),\n",
    "        lowBound=0,\n",
    "        cat=\"Binary\",\n",
    "    )\n",
    "\n",
    "    # trip/return trip decision variable -> Int\n",
    "    trip_decision = pulp.LpVariable.dicts(\n",
    "        \"Trip_Decision_\",\n",
    "        (tuple(df1[\"decisions\"][i].split(\", \")) + (j,) for i in range(len(df1)) for j in range(master_availability[df1[\"decisions\"][i].split(\", \")[-1]])),\n",
    "        lowBound=0,\n",
    "        cat=\"Integer\",\n",
    "    )\n",
    "\n",
    "    ############################################################\n",
    "    # ------------------- Objective Function ------------------#\n",
    "    ############################################################\n",
    "\n",
    "    obj_list = []\n",
    "    for s, d, m, v, c in tqdm(choice_decision.keys()):\n",
    "        obj_list.extend((choice_decision[(s, d, m, v, c)] * df1.filter(pl.col(\"decisions\") == f\"{s}, {d}, {m}, {v}\")[\"obj1\"].item()\n",
    "        ,trip_decision[(s, d, m, v, c)] * df1.filter(pl.col(\"decisions\") == f\"{s}, {d}, {m}, {v}\")[\"obj1\"].item()))\n",
    "\n",
    "    model += pulp.lpSum(obj_list)\n",
    "\n",
    "    #####################################################\n",
    "    # ------------------- Constraints ------------------#\n",
    "    #####################################################\n",
    "\n",
    "    # ========== Demand Constraint ==========\n",
    "    (s0, d0, m0, v0, c0) = list(choice_decision.keys())[0]\n",
    "    col = []\n",
    "\n",
    "    for s, d, m, v, c in tqdm(choice_decision.keys()):\n",
    "        if (s0, d0) == (s, d):\n",
    "            col.extend((choice_decision[(s, d, m, v, c)] * df1.filter(pl.col(\"decisions\") == f\"{s}, {d}, {m}, {v}\")[\"Capacity (metric tons)\"].item()\n",
    "            ,trip_decision[(s, d, m, v, c)] * df1.filter(pl.col(\"decisions\") == f\"{s}, {d}, {m}, {v}\")[\"Capacity (metric tons)\"].item()))\n",
    "        else:\n",
    "            if demand[(s0, d0)] == 0:\n",
    "                model += pulp.lpSum(col) == demand[(s0, d0)]\n",
    "                (s0, d0) = (s, d)\n",
    "                col = []\n",
    "                col.extend((choice_decision[(s, d, m, v, c)] * df1.filter(pl.col(\"decisions\") == f\"{s}, {d}, {m}, {v}\")[\"Capacity (metric tons)\"].item()\n",
    "                ,trip_decision[(s, d, m, v, c)] * df1.filter(pl.col(\"decisions\") == f\"{s}, {d}, {m}, {v}\")[\"Capacity (metric tons)\"].item()))\n",
    "            elif demand[(s0, d0)] >= 0:\n",
    "                model += pulp.lpSum(col) >= demand[(s0, d0)]\n",
    "                (s0, d0) = (s, d)\n",
    "                col = []\n",
    "                col.extend((choice_decision[(s, d, m, v, c)] * df1.filter(pl.col(\"decisions\") == f\"{s}, {d}, {m}, {v}\")[\"Capacity (metric tons)\"].item()\n",
    "                ,trip_decision[(s, d, m, v, c)] * df1.filter(pl.col(\"decisions\") == f\"{s}, {d}, {m}, {v}\")[\"Capacity (metric tons)\"].item()))\n",
    "\n",
    "    if demand[(s0, d0)] == 0:\n",
    "        model += pulp.lpSum(col) == demand[(s0, d0)]\n",
    "    elif demand[(s0, d0)] >= 0:\n",
    "        model += pulp.lpSum(col) >= demand[(s0, d0)]\n",
    "\n",
    "\n",
    "    # ========== Minimum Quantity Allowed Constraint ==========\n",
    "\n",
    "    (s0, d0, m0, v0, c0) = list(choice_decision.keys())[0]\n",
    "    col = []\n",
    "\n",
    "    for s, d, m, v, c in tqdm(choice_decision.keys()):\n",
    "        if (s0, d0) == (s, d):\n",
    "            col.extend((\n",
    "                choice_decision[(s, d, m, v, c)] * df1.filter(pl.col(\"decisions\") == f\"{s}, {d}, {m}, {v}\")[\"Minimum Quantity Allowed (MQA)\"].item()\n",
    "                ,trip_decision[(s, d, m, v, c)] * df1.filter(pl.col(\"decisions\") == f\"{s}, {d}, {m}, {v}\")[\"Minimum Quantity Allowed (MQA)\"].item()))\n",
    "        else:\n",
    "            if demand[(s0, d0)] == 0:\n",
    "                model += pulp.lpSum(col) == demand[(s0, d0)]\n",
    "                (s0, d0) = (s, d)\n",
    "                col = []\n",
    "                col.extend((\n",
    "                    choice_decision[(s, d, m, v, c)] * df1.filter(pl.col(\"decisions\") == f\"{s}, {d}, {m}, {v}\")[\"Minimum Quantity Allowed (MQA)\"].item()\n",
    "                    ,trip_decision[(s, d, m, v, c)] * df1.filter(pl.col(\"decisions\") == f\"{s}, {d}, {m}, {v}\")[\"Minimum Quantity Allowed (MQA)\"].item()\n",
    "                ))\n",
    "            elif demand[(s0, d0)] >= 0:\n",
    "                model += pulp.lpSum(col) <= demand[(s0, d0)]\n",
    "                (s0, d0) = (s, d)\n",
    "                col = []\n",
    "                col.extend((choice_decision[(s, d, m, v, c)] * df1.filter(pl.col(\"decisions\") == f\"{s}, {d}, {m}, {v}\")[\"Capacity (metric tons)\"].item()\n",
    "                ,trip_decision[(s, d, m, v, c)] * df1.filter(pl.col(\"decisions\") == f\"{s}, {d}, {m}, {v}\")[\"Capacity (metric tons)\"].item()))\n",
    "\n",
    "    if demand[(s0, d0)] == 0:\n",
    "        model += pulp.lpSum(col) == demand[(s0, d0)]\n",
    "    elif demand[(s0, d0)] >= 0:\n",
    "        model += pulp.lpSum(col) <= demand[(s0, d0)]\n",
    "\n",
    "\n",
    "    # ========== Time Constraint ==========\n",
    "\n",
    "    for s, d, m, v, c in tqdm(choice_decision.keys()):\n",
    "        if input_df[(input_df[\"From\"] == s) & (input_df[\"To\"] == d)].shape[0]:\n",
    "            exp = pulp.lpSum((choice_decision[(s, d, m, v, c)] * df1.filter(pl.col(\"decisions\") == f\"{s}, {d}, {m}, {v}\")[\"Time (hrs)\"].item(), \n",
    "                2 * trip_decision[(s, d, m, v, c)] * df1.filter(pl.col(\"decisions\") == f\"{s}, {d}, {m}, {v}\")[\"Time (hrs)\"].item())\n",
    "            )\n",
    "            model += pulp.LpConstraint(\n",
    "                e=pulp.LpAffineExpression(exp),\n",
    "                sense=pulp.LpConstraintLE,\n",
    "                rhs=input_df[(input_df[\"From\"] == s) & (input_df[\"To\"] == d)][\"Time (hrs)\"].item(),\n",
    "            )\n",
    "\n",
    "\n",
    "    # ========== Cost Constraint ==========\n",
    "\n",
    "    (s0, d0, m0, v0, c0) = list(choice_decision.keys())[0]\n",
    "    col = []\n",
    "\n",
    "    for s, d, m, v, c in tqdm(choice_decision.keys()):\n",
    "        if ((s0, d0) == (s, d)) & input_df[(input_df[\"From\"] == s) & (input_df[\"To\"] == d)].shape[0]:\n",
    "            col.extend((choice_decision[(s, d, m, v, c)] * df1.filter(pl.col(\"decisions\") == f\"{s}, {d}, {m}, {v}\")[\"Cost\"].item()\n",
    "            ,trip_decision[(s, d, m, v, c)] * df1.filter(pl.col(\"decisions\") == f\"{s}, {d}, {m}, {v}\")[\"Cost\"].item()))\n",
    "        elif (s0, d0) != (s, d):\n",
    "            if input_df[(input_df[\"From\"] == s0) & (input_df[\"To\"] == d0)].shape[0]:\n",
    "                model += pulp.lpSum(col) <= input_df[(input_df[\"From\"] == s0) & (input_df[\"To\"] == d0)][\"Cost\"]\n",
    "                (s0, d0) = (s, d)\n",
    "                col = []\n",
    "                col.extend((choice_decision[(s, d, m, v, c)] * df1.filter(pl.col(\"decisions\") == f\"{s}, {d}, {m}, {v}\")[\"Cost\"].item()\n",
    "                ,trip_decision[(s, d, m, v, c)] * df1.filter(pl.col(\"decisions\") == f\"{s}, {d}, {m}, {v}\")[\"Cost\"].item()))\n",
    "            else:\n",
    "                (s0, d0) = (s, d)\n",
    "                col = []\n",
    "\n",
    "    if input_df[(input_df[\"From\"] == s) & (input_df[\"To\"] == d)].shape[0]:\n",
    "        model += pulp.lpSum(col) <= input_df[(input_df[\"From\"] == s0) & (input_df[\"To\"] == d0)][\"Cost\"]\n",
    "\n",
    "\n",
    "    # ========== Other Constraints ==========\n",
    "\n",
    "    for s, d, m, v, c in tqdm(choice_decision.keys()):\n",
    "        model += trip_decision[(s, d, m, v, c)] <= 10000000 * choice_decision[(s, d, m, v, c)]\n",
    "\n",
    "    for s, d, m, v, c in tqdm(choice_decision.keys()):\n",
    "        if m != \"Road\":\n",
    "            model += trip_decision[(s, d, m, v, c)] == 0\n",
    "            \n",
    "    return model, choice_decision, trip_decision"
   ]
  },
  {
   "cell_type": "code",
   "execution_count": 7,
   "id": "892e381c",
   "metadata": {},
   "outputs": [],
   "source": [
    "def extract_output(model):\n",
    "    # Extracting necessary output info. from the solver\n",
    "    mt_choice = []\n",
    "    mt_trip = []\n",
    "    for v in model.variables():\n",
    "        if v.varValue != 0:\n",
    "            if v.name.split(\"__(\")[0] == \"Choice_Decision\":\n",
    "                mt_choice.append(\n",
    "                    v.name.split(\"__(\")[1].rstrip(\")\").split(\",_\")\n",
    "                    + [\n",
    "                        v.varValue,\n",
    "                    ]\n",
    "                )\n",
    "            else:\n",
    "                mt_trip.append(\n",
    "                    v.name.split(\"__(\")[1].rstrip(\")\").split(\",_\")\n",
    "                    + [\n",
    "                        v.varValue,\n",
    "                    ]\n",
    "                )\n",
    "\n",
    "    mt_choice_output = pd.DataFrame(\n",
    "        mt_choice,\n",
    "        columns=[\n",
    "            \"Source\",\n",
    "            \"Destination\",\n",
    "            \"Transportation mode\",\n",
    "            \"Vehicle type\",\n",
    "            \"Vehicle number\",\n",
    "            \"Count\",\n",
    "        ],\n",
    "    )\n",
    "    mt_choice_output_df = mt_choice_output.applymap(lambda x: x.strip(\"'\") if isinstance(x, str) else x)\n",
    "    mt_choice_output_df[\"S_D_M\"] = (\n",
    "        mt_choice_output_df[\"Source\"] + \"_\" + mt_choice_output_df[\"Destination\"] + \"_\" + mt_choice_output_df[\"Transportation mode\"]\n",
    "    )\n",
    "\n",
    "    mt_trip_output = pd.DataFrame(\n",
    "        mt_trip,\n",
    "        columns=[\n",
    "            \"Source\",\n",
    "            \"Destination\",\n",
    "            \"Transportation mode\",\n",
    "            \"Vehicle type\",\n",
    "            \"Vehicle number\",\n",
    "            \"Count\",\n",
    "        ],\n",
    "    )\n",
    "    mt_trip_output_df = mt_trip_output.applymap(lambda x: x.strip(\"'\") if isinstance(x, str) else x)\n",
    "    mt_trip_output_df[\"S_D_M\"] = mt_trip_output_df[\"Source\"] + \"_\" + mt_trip_output_df[\"Destination\"] + \"_\" + mt_trip_output_df[\"Transportation mode\"]\n",
    "    mt_trip_output_df[\"Vehicle type with number\"] = mt_trip_output_df[\"Vehicle type\"] + \"_\" + mt_trip_output_df[\"Vehicle number\"]\n",
    "    \n",
    "    \n",
    "    return mt_choice_output_df, mt_trip_output_df\n",
    "\n",
    "\n",
    "def create_mappings(df, distances_df, vehicles_df):\n",
    "    # Apply all mapping to the output\n",
    "    dist_list = []\n",
    "    vals = []\n",
    "    for c in distances_df.columns[2:]:\n",
    "        for i in range(len(distances_df)):\n",
    "            dist_list.append(distances_df[\"Source\"][i] + \"_\" + distances_df[\"Destination\"][i] + \"_\" + c.split(\" \")[0])\n",
    "            vals.append(distances_df[c][i])\n",
    "\n",
    "    distance_mappings = dict(zip(dist_list, vals))\n",
    "    quantity_mappings = dict(zip(vehicles_df[\"Vehicle_type\"], vehicles_df[\"Capacity (metric tons)\"]))\n",
    "    emission_mappings = dict(zip(vehicles_df[\"Vehicle_type\"], vehicles_df[\"Co2e (g/km)\"]))\n",
    "    cost_mappings = dict(zip(vehicles_df[\"Vehicle_type\"], vehicles_df[\"Cost per km\"]))\n",
    "    time_mappings = dict(\n",
    "        zip(\n",
    "            (df[\"Source\"] + \"_\" + df[\"Destination\"] + \"_\" + df[\"Transportation modes\"] + \"_\" + df[\"Vehicle_type\"].str.replace(\" \", \"_\")),\n",
    "            df[\"Time (hrs)\"],\n",
    "        )\n",
    "    )\n",
    "    \n",
    "    return {\"distance_mappings\":distance_mappings, \"quantity_mappings\":quantity_mappings, \"emission_mappings\":emission_mappings, \"cost_mappings\":cost_mappings, \"time_mappings\":time_mappings}\n",
    "\n",
    "def apply_mappings(mappings, df, t=None):\n",
    "    # Get output data ready before putting into presentable format\n",
    "    df[\"Loaded quantity\"] = df[\"Vehicle type\"].str.replace(\"_\", \" \").map(mappings[\"quantity_mappings\"])\n",
    "    df[\"Distance\"] = df[\"S_D_M\"].map(mappings[\"distance_mappings\"])\n",
    "    df[\"Emission\"] = (\n",
    "        (df[\"Vehicle type\"].str.replace(\"_\", \" \").map(mappings[\"emission_mappings\"])) * df[\"Distance\"] / 1000\n",
    "    )\n",
    "    df[\"Transportation cost\"] = (df[\"Vehicle type\"].str.replace(\"_\", \" \").map(mappings[\"cost_mappings\"])) * df[\n",
    "        \"Distance\"\n",
    "    ]\n",
    "    df[\"Time (hrs)\"] = (df[\"S_D_M\"] + \"_\" + df[\"Vehicle type\"]).map(mappings[\"time_mappings\"])\n",
    "    if t==(\"trip\" or \"return\" or \"return trip\"):\n",
    "        df[\"Time (hrs)\"] *= df[\"Count\"]\n",
    "    "
   ]
  },
  {
   "cell_type": "code",
   "execution_count": 8,
   "id": "b52a0da7",
   "metadata": {},
   "outputs": [],
   "source": [
    "def generate_output(df):\n",
    "    # Pivot tables for more presentable data\n",
    "\n",
    "    vehicle_count = pd.pivot_table(\n",
    "        df,\n",
    "        values=\"Count\",\n",
    "        index=[\"Source\", \"Destination\"],\n",
    "        columns=[\"Vehicle type\"],\n",
    "        aggfunc=\"sum\",\n",
    "    ).reset_index()\n",
    "    vehicle_count[\"Total Vehicles in Use\"] = vehicle_count.iloc[:, 2:].sum(axis=1)\n",
    "\n",
    "    material_transport_quantity = pd.pivot_table(\n",
    "        df,\n",
    "        values=\"Loaded quantity\",\n",
    "        index=[\"Source\", \"Destination\"],\n",
    "        columns=[\"Vehicle type\"],\n",
    "        aggfunc=\"sum\",\n",
    "    ).reset_index()\n",
    "    material_transport_quantity[\"Total Quantity Transported\"] = material_transport_quantity.iloc[:, 2:].sum(axis=1)\n",
    "\n",
    "    co2_emission = pd.pivot_table(\n",
    "        df,\n",
    "        values=\"Emission\",\n",
    "        index=[\"Source\", \"Destination\"],\n",
    "        columns=[\"Vehicle type\"],\n",
    "        aggfunc=\"sum\",\n",
    "    ).reset_index()\n",
    "    co2_emission[\"Total co2 Emission (kg)\"] = co2_emission.iloc[:, 2:].sum(axis=1)\n",
    "\n",
    "    transportation_cost = pd.pivot_table(\n",
    "        df,\n",
    "        values=\"Transportation cost\",\n",
    "        index=[\"Source\", \"Destination\"],\n",
    "        columns=[\"Vehicle type\"],\n",
    "        aggfunc=\"sum\",\n",
    "    ).reset_index()\n",
    "    transportation_cost[\"Total transportation cost\"] = transportation_cost.iloc[:, 2:].sum(axis=1)\n",
    "\n",
    "    transportation_time = pd.pivot_table(\n",
    "        df,\n",
    "        values=\"Time (hrs)\",\n",
    "        index=[\"Source\", \"Destination\"],\n",
    "        columns=[\"Vehicle type\"],\n",
    "        aggfunc=\"max\",\n",
    "    ).reset_index()\n",
    "    transportation_time[\"Total Time (hrs)\"] = transportation_time.iloc[:, 2:].sum(axis=1)\n",
    "\n",
    "    # Some cleaning\n",
    "\n",
    "    vehicle_count.fillna(0, inplace=True)\n",
    "    material_transport_quantity.fillna(0, inplace=True)\n",
    "    co2_emission.fillna(0, inplace=True)\n",
    "    transportation_cost.fillna(0, inplace=True)\n",
    "    transportation_time.fillna(0, inplace=True)\n",
    "\n",
    "    return vehicle_count, material_transport_quantity, co2_emission, transportation_cost, transportation_time\n"
   ]
  },
  {
   "cell_type": "code",
   "execution_count": 9,
   "id": "ceebddba",
   "metadata": {},
   "outputs": [],
   "source": [
    "def save_outputs(folder_path):\n",
    "    os.makedirs(folder_path, exist_ok=True)\n",
    "    with pd.ExcelWriter(f\"{folder_path}/Vehicle_Count.xlsx\") as writer1:\n",
    "        vehicle_count_choice.to_excel(writer1, sheet_name=\"Solution 1\", index=False, startrow=1, startcol=0)\n",
    "        vehicle_count_trip.to_excel(writer1, sheet_name=\"Solution 1\", index=False, startrow=1, startcol=vehicle_count_choice.shape[1] + 2)\n",
    "\n",
    "    with pd.ExcelWriter(f\"{folder_path}/Material_Transport_Quantity.xlsx\") as writer2:\n",
    "        material_transport_quantity_choice.to_excel(writer2, sheet_name=\"Solution 1\", index=False, startrow=1, startcol=0)\n",
    "        material_transport_quantity_trip.to_excel(\n",
    "            writer2, sheet_name=\"Solution 1\", index=False, startrow=1, startcol=material_transport_quantity_choice.shape[1] + 2\n",
    "        )\n",
    "\n",
    "    with pd.ExcelWriter(f\"{folder_path}/CO2_Emission.xlsx\") as writer3:\n",
    "        co2_emission_choice.to_excel(writer3, sheet_name=\"Solution 1\", index=False, startrow=1, startcol=0)\n",
    "        co2_emission_trip.to_excel(writer3, sheet_name=\"Solution 1\", index=False, startrow=1, startcol=co2_emission_choice.shape[1] + 2)\n",
    "\n",
    "    with pd.ExcelWriter(f\"{folder_path}/Transportation_Cost.xlsx\") as writer4:\n",
    "        transportation_cost_choice.to_excel(writer4, sheet_name=\"Solution 1\", index=False, startrow=1, startcol=0)\n",
    "        transportation_cost_trip.to_excel(\n",
    "            writer4, sheet_name=\"Solution 1\", index=False, startrow=1, startcol=transportation_cost_choice.shape[1] + 2\n",
    "        )\n",
    "\n",
    "    with pd.ExcelWriter(f\"{folder_path}/Transportation_Time.xlsx\") as writer5:\n",
    "        transportation_time_choice.to_excel(writer5, sheet_name=\"Solution 1\", index=False, startrow=1, startcol=0)\n",
    "        transportation_time_trip.to_excel(\n",
    "            writer5, sheet_name=\"Solution 1\", index=False, startrow=1, startcol=transportation_time_choice.shape[1] + 2\n",
    "        )\n"
   ]
  },
  {
   "cell_type": "code",
   "execution_count": 10,
   "id": "05f02211",
   "metadata": {},
   "outputs": [],
   "source": [
    "def prepare_and_save_summary(folder_path, run=0):\n",
    "    os.makedirs(folder_path, exist_ok=True)\n",
    "    output_large_merged = mt_choice_output_df.merge(mt_trip_output_df[['Source', 'Destination', 'Transportation mode', 'Vehicle type', 'Vehicle number', 'Count', 'Time (hrs)']], on=['Source', 'Destination', 'Transportation mode', 'Vehicle type', 'Vehicle number'], how=\"left\").fillna(-1)\n",
    "    output_large_merged['Count_y']+=1\n",
    "    output_large_merged['Count_y'] = output_large_merged[['Count_x', 'Count_y']].max(axis=1)\n",
    "    output_large_merged['Time (hrs)'] = output_large_merged[['Time (hrs)_x', 'Time (hrs)_y']].max(axis=1)\n",
    "    summary_large = output_large_merged[['Source', 'Destination', 'Transportation mode', 'Vehicle type', 'Vehicle number', 'Count_y', 'Loaded quantity', 'Emission', 'Transportation cost', 'Time (hrs)']]\n",
    "    summary_large.rename({'Count_y': 'Number of trips', 'Emission': 'Total CO2 Emission', 'Transportation cost': 'Total Transportation Cost', 'Time (hrs)': 'Total Transportation Time (hrs)'}, axis=1, inplace=True)\n",
    "    summary_large['Vehicle number'] = summary_large['Vehicle number'].astype('int64')\n",
    "\n",
    "    summary_large['Loaded quantity'] *= summary_large['Number of trips']\n",
    "    summary_large['Total CO2 Emission'] *= (2*summary_large['Number of trips'])\n",
    "    summary_large['Total Transportation Cost'] *= (2*summary_large['Number of trips'])\n",
    "    summary_large['Total Transportation Time (hrs)'] *= (2*summary_large['Number of trips']-1)\n",
    "\n",
    "    result_df = summary_large.groupby(['Source', 'Destination']).agg({\n",
    "         'Vehicle type': 'count',\n",
    "        'Total CO2 Emission': 'sum',\n",
    "        'Total Transportation Time (hrs)': 'max',\n",
    "        'Total Transportation Cost': 'sum',\n",
    "        'Loaded quantity':'sum',\n",
    "\n",
    "    }).reset_index()\n",
    "    output_short_merged = result_df.merge(input_df, left_on=['Source', 'Destination'], right_on=['From', 'To'])\n",
    "    summary_short = output_short_merged[['Source', 'Destination', 'Quantity (MT)', 'Time (hrs)', 'Cost', 'Loaded quantity', 'Total Transportation Time (hrs)', 'Total Transportation Cost', 'Total CO2 Emission']]\n",
    "    summary_short.rename({'Quantity(MT)': 'Demand', 'Time (hrs)': 'Time Constraint (hrs)', 'Cost': 'Cost Constraint', 'Total transportation time': 'Total transportation time (hrs)', 'Loaded quantity': 'Total Quantity Transported'}, axis=1, inplace=True)    \n",
    "\n",
    "    with pd.ExcelWriter(f\"{folder_path}/Summary{run}.xlsx\") as writer:\n",
    "        summary_large.to_excel(writer, sheet_name=\"Summary\", index=False, startrow=0, startcol=0)\n",
    "        summary_short.to_excel(writer, sheet_name=\"Summary\", index=False, startrow=summary_large.shape[0]+3, startcol=0)\n",
    "        \n",
    "    return summary_large, summary_short"
   ]
  },
  {
   "cell_type": "code",
   "execution_count": 11,
   "id": "10cb27ca",
   "metadata": {},
   "outputs": [
    {
     "data": {
      "application/vnd.jupyter.widget-view+json": {
       "model_id": "84a47e3f4d2343f78efbc9d6efb526e6",
       "version_major": 2,
       "version_minor": 0
      },
      "text/plain": [
       "  0%|          | 0/113772 [00:00<?, ?it/s]"
      ]
     },
     "metadata": {},
     "output_type": "display_data"
    },
    {
     "data": {
      "application/vnd.jupyter.widget-view+json": {
       "model_id": "ae9e37916324437885c39eac9d95ef2c",
       "version_major": 2,
       "version_minor": 0
      },
      "text/plain": [
       "  0%|          | 0/113772 [00:00<?, ?it/s]"
      ]
     },
     "metadata": {},
     "output_type": "display_data"
    },
    {
     "data": {
      "application/vnd.jupyter.widget-view+json": {
       "model_id": "da936b57cccf4467a074b36b6b446ff7",
       "version_major": 2,
       "version_minor": 0
      },
      "text/plain": [
       "  0%|          | 0/113772 [00:00<?, ?it/s]"
      ]
     },
     "metadata": {},
     "output_type": "display_data"
    },
    {
     "data": {
      "application/vnd.jupyter.widget-view+json": {
       "model_id": "7417b82a984c4951b1829ba78abbfb4d",
       "version_major": 2,
       "version_minor": 0
      },
      "text/plain": [
       "  0%|          | 0/113772 [00:00<?, ?it/s]"
      ]
     },
     "metadata": {},
     "output_type": "display_data"
    },
    {
     "data": {
      "application/vnd.jupyter.widget-view+json": {
       "model_id": "d3518a2bc09a49fb9d41cb7830fc7398",
       "version_major": 2,
       "version_minor": 0
      },
      "text/plain": [
       "  0%|          | 0/113772 [00:00<?, ?it/s]"
      ]
     },
     "metadata": {},
     "output_type": "display_data"
    },
    {
     "data": {
      "application/vnd.jupyter.widget-view+json": {
       "model_id": "28646e4d41e54778a33b6a84d1d72572",
       "version_major": 2,
       "version_minor": 0
      },
      "text/plain": [
       "  0%|          | 0/113772 [00:00<?, ?it/s]"
      ]
     },
     "metadata": {},
     "output_type": "display_data"
    },
    {
     "data": {
      "application/vnd.jupyter.widget-view+json": {
       "model_id": "238b90e1f0a0408693f779cce024c272",
       "version_major": 2,
       "version_minor": 0
      },
      "text/plain": [
       "  0%|          | 0/113772 [00:00<?, ?it/s]"
      ]
     },
     "metadata": {},
     "output_type": "display_data"
    },
    {
     "name": "stdout",
     "output_type": "stream",
     "text": [
      "CPU times: total: 41min 24s\n",
      "Wall time: 21min 34s\n"
     ]
    }
   ],
   "source": [
    "%%time\n",
    "df0, df1 = prepare_model_data(vehicles_df, distances_df)\n",
    "master_availability, master_demand = master_data_preparation(vehicles_df, df0)\n",
    "demand = prepare_demand_data(input_df, master_demand)\n",
    "model, choice_decision, trip_decision = create_optim_model(df1, input_df)"
   ]
  },
  {
   "cell_type": "code",
   "execution_count": 12,
   "id": "0079ec2e",
   "metadata": {},
   "outputs": [],
   "source": [
    "col=[]\n",
    "for s, d, m, v, c in choice_decision.keys():\n",
    "    col.append(choice_decision[(s, d, m, v, c)] * df1.filter(pl.col(\"decisions\") == f\"{s}, {d}, {m}, {v}\")[\"Cost\"].item())\n",
    "    col.append(trip_decision[(s, d, m, v, c)] * df1.filter(pl.col(\"decisions\") == f\"{s}, {d}, {m}, {v}\")[\"Cost\"].item())"
   ]
  },
  {
   "cell_type": "code",
   "execution_count": 13,
   "id": "e18d8f9f",
   "metadata": {},
   "outputs": [
    {
     "name": "stdout",
     "output_type": "stream",
     "text": [
      "Optimal\n",
      "CPU times: total: 33.5 s\n",
      "Wall time: 3min 32s\n"
     ]
    }
   ],
   "source": [
    "%%time\n",
    "model.solve(pulp.PULP_CBC_CMD())\n",
    "print(pulp.LpStatus[model.status])\n",
    "mt_choice_output_df, mt_trip_output_df = extract_output(model)\n",
    "mappings = create_mappings(df0, distances_df, vehicles_df)\n",
    "apply_mappings(mappings, mt_choice_output_df)\n",
    "apply_mappings(mappings, mt_trip_output_df, t='return')\n",
    "vehicle_count_choice, material_transport_quantity_choice, co2_emission_choice, transportation_cost_choice, transportation_time_choice = generate_output(mt_choice_output_df)\n",
    "vehicle_count_trip, material_transport_quantity_trip, co2_emission_trip, transportation_cost_trip, transportation_time_trip = generate_output(mt_trip_output_df)\n",
    "save_outputs(f\"../data/Output_data/v4/ans1\")\n",
    "summary_large, summary_short = prepare_and_save_summary(f\"../data/Output_data/v4/ans1/result\", 1)"
   ]
  },
  {
   "cell_type": "code",
   "execution_count": 14,
   "id": "001573bb",
   "metadata": {},
   "outputs": [],
   "source": [
    "####################################################################\n",
    "#------------------- Solve for second iteration -------------------#\n",
    "####################################################################\n",
    "total_cost = summary_short['Total Transportation Cost'].sum()\n",
    "model += pulp.lpSum(col) <= int(total_cost/2-1)"
   ]
  },
  {
   "cell_type": "code",
   "execution_count": 15,
   "id": "b65ee1a2",
   "metadata": {},
   "outputs": [
    {
     "data": {
      "text/plain": [
       "4227959.747922589"
      ]
     },
     "execution_count": 15,
     "metadata": {},
     "output_type": "execute_result"
    }
   ],
   "source": [
    "total_cost"
   ]
  },
  {
   "cell_type": "code",
   "execution_count": 16,
   "id": "a77615a9",
   "metadata": {},
   "outputs": [
    {
     "name": "stdout",
     "output_type": "stream",
     "text": [
      "Not Solved\n",
      "CPU times: total: 34.2 s\n",
      "Wall time: 1min 11s\n"
     ]
    }
   ],
   "source": [
    "%%time\n",
    "model.solve(pulp.PULP_CBC_CMD(maxSeconds=20, msg=1, fracGap=0))\n",
    "print(pulp.LpStatus[model.status])\n",
    "mt_choice_output_df, mt_trip_output_df = extract_output(model)\n",
    "mappings = create_mappings(df0, distances_df, vehicles_df)\n",
    "apply_mappings(mappings, mt_choice_output_df)\n",
    "apply_mappings(mappings, mt_trip_output_df, t='return')\n",
    "vehicle_count_choice, material_transport_quantity_choice, co2_emission_choice, transportation_cost_choice, transportation_time_choice = generate_output(mt_choice_output_df)\n",
    "vehicle_count_trip, material_transport_quantity_trip, co2_emission_trip, transportation_cost_trip, transportation_time_trip = generate_output(mt_trip_output_df)\n",
    "save_outputs(f\"../data/Output_data/v4/ans2\")\n",
    "summary_large, summary_short = prepare_and_save_summary(f\"../data/Output_data/v4/ans2/result\", 2)"
   ]
  },
  {
   "cell_type": "code",
   "execution_count": 17,
   "id": "379d952e",
   "metadata": {},
   "outputs": [],
   "source": [
    "###################################################################\n",
    "#------------------- Solve for third iteration -------------------#\n",
    "###################################################################\n",
    "total_cost = summary_short['Total Transportation Cost'].sum()\n",
    "model += pulp.lpSum(col) <= int(total_cost/2-1)"
   ]
  },
  {
   "cell_type": "code",
   "execution_count": 18,
   "id": "bacd1ae0",
   "metadata": {},
   "outputs": [
    {
     "data": {
      "text/plain": [
       "28051.62522"
      ]
     },
     "execution_count": 18,
     "metadata": {},
     "output_type": "execute_result"
    }
   ],
   "source": [
    "total_cost"
   ]
  },
  {
   "cell_type": "code",
   "execution_count": 19,
   "id": "f75401ac",
   "metadata": {},
   "outputs": [
    {
     "name": "stdout",
     "output_type": "stream",
     "text": [
      "Infeasible\n",
      "CPU times: total: 39.6 s\n",
      "Wall time: 53.9 s\n"
     ]
    }
   ],
   "source": [
    "%%time\n",
    "model.solve(pulp.PULP_CBC_CMD(maxSeconds=20, msg=1, fracGap=0))\n",
    "print(pulp.LpStatus[model.status])\n",
    "mt_choice_output_df, mt_trip_output_df = extract_output(model)\n",
    "mappings = create_mappings(df0, distances_df, vehicles_df)\n",
    "apply_mappings(mappings, mt_choice_output_df)\n",
    "apply_mappings(mappings, mt_trip_output_df, t='return')\n",
    "vehicle_count_choice, material_transport_quantity_choice, co2_emission_choice, transportation_cost_choice, transportation_time_choice = generate_output(mt_choice_output_df)\n",
    "vehicle_count_trip, material_transport_quantity_trip, co2_emission_trip, transportation_cost_trip, transportation_time_trip = generate_output(mt_trip_output_df)\n",
    "save_outputs(f\"../data/Output_data/v4/ans3\")\n",
    "summary_large, summary_short = prepare_and_save_summary(f\"../data/Output_data/v4/ans3/result\", 3)"
   ]
  },
  {
   "cell_type": "code",
   "execution_count": 20,
   "id": "d916ed1a",
   "metadata": {},
   "outputs": [
    {
     "data": {
      "text/plain": [
       "28051.62522"
      ]
     },
     "execution_count": 20,
     "metadata": {},
     "output_type": "execute_result"
    }
   ],
   "source": [
    "total_cost = summary_short['Total Transportation Cost'].sum()\n",
    "total_cost"
   ]
  },
  {
   "cell_type": "code",
   "execution_count": 21,
   "id": "8094cf7f",
   "metadata": {},
   "outputs": [
    {
     "data": {
      "text/plain": [
       "9738"
      ]
     },
     "execution_count": 21,
     "metadata": {},
     "output_type": "execute_result"
    }
   ],
   "source": [
    "del model, mt_choice_output_df, mt_trip_output_df, mappings,vehicle_count_choice, material_transport_quantity_choice, co2_emission_choice, transportation_cost_choice, transportation_time_choice,vehicle_count_trip, material_transport_quantity_trip, co2_emission_trip, transportation_cost_trip, transportation_time_trip, summary_large, summary_short, total_cost\n",
    "gc.collect()"
   ]
  },
  {
   "cell_type": "code",
   "execution_count": null,
   "id": "87236464",
   "metadata": {},
   "outputs": [],
   "source": []
  }
 ],
 "metadata": {
  "kernelspec": {
   "display_name": "Python 3 (ipykernel)",
   "language": "python",
   "name": "python3"
  },
  "language_info": {
   "codemirror_mode": {
    "name": "ipython",
    "version": 3
   },
   "file_extension": ".py",
   "mimetype": "text/x-python",
   "name": "python",
   "nbconvert_exporter": "python",
   "pygments_lexer": "ipython3",
   "version": "3.10.5"
  }
 },
 "nbformat": 4,
 "nbformat_minor": 5
}
